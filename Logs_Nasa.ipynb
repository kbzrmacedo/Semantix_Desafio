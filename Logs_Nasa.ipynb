{
 "cells": [
  {
   "cell_type": "markdown",
   "metadata": {},
   "source": [
    "# Desafio Semantix - Logs Nasa #"
   ]
  },
  {
   "cell_type": "code",
   "execution_count": 1,
   "metadata": {},
   "outputs": [],
   "source": [
    "from pyspark.sql import SQLContext, Column\n",
    "from pyspark import SparkContext\n",
    "from pyspark.sql.functions import *"
   ]
  },
  {
   "cell_type": "code",
   "execution_count": 2,
   "metadata": {},
   "outputs": [],
   "source": [
    "sc = SparkContext(appName=\"RequestsNasa\")"
   ]
  },
  {
   "cell_type": "code",
   "execution_count": 3,
   "metadata": {},
   "outputs": [],
   "source": [
    "sqlContext = SQLContext(sc)"
   ]
  },
  {
   "cell_type": "markdown",
   "metadata": {},
   "source": [
    "## Arquivos de Log"
   ]
  },
  {
   "cell_type": "code",
   "execution_count": 4,
   "metadata": {},
   "outputs": [],
   "source": [
    "arq_log_Aug95 = sqlContext.read.text(\"access_log_Aug95\")\n",
    "arq_log_Jul95 = sqlContext.read.text(\"access_log_Jul95\")"
   ]
  },
  {
   "cell_type": "code",
   "execution_count": 6,
   "metadata": {},
   "outputs": [
    {
     "name": "stdout",
     "output_type": "stream",
     "text": [
      "+--------------------------------------------------------------------------------------------------------------------------+\n",
      "|value                                                                                                                     |\n",
      "+--------------------------------------------------------------------------------------------------------------------------+\n",
      "|in24.inetnebr.com - - [01/Aug/1995:00:00:01 -0400] \"GET /shuttle/missions/sts-68/news/sts-68-mcc-05.txt HTTP/1.0\" 200 1839|\n",
      "|uplherc.upl.com - - [01/Aug/1995:00:00:07 -0400] \"GET / HTTP/1.0\" 304 0                                                   |\n",
      "|uplherc.upl.com - - [01/Aug/1995:00:00:08 -0400] \"GET /images/ksclogo-medium.gif HTTP/1.0\" 304 0                          |\n",
      "|uplherc.upl.com - - [01/Aug/1995:00:00:08 -0400] \"GET /images/MOSAIC-logosmall.gif HTTP/1.0\" 304 0                        |\n",
      "|uplherc.upl.com - - [01/Aug/1995:00:00:08 -0400] \"GET /images/USA-logosmall.gif HTTP/1.0\" 304 0                           |\n",
      "+--------------------------------------------------------------------------------------------------------------------------+\n",
      "only showing top 5 rows\n",
      "\n",
      "+-----------------------------------------------------------------------------------------------------------------------+\n",
      "|value                                                                                                                  |\n",
      "+-----------------------------------------------------------------------------------------------------------------------+\n",
      "|199.72.81.55 - - [01/Jul/1995:00:00:01 -0400] \"GET /history/apollo/ HTTP/1.0\" 200 6245                                 |\n",
      "|unicomp6.unicomp.net - - [01/Jul/1995:00:00:06 -0400] \"GET /shuttle/countdown/ HTTP/1.0\" 200 3985                      |\n",
      "|199.120.110.21 - - [01/Jul/1995:00:00:09 -0400] \"GET /shuttle/missions/sts-73/mission-sts-73.html HTTP/1.0\" 200 4085   |\n",
      "|burger.letters.com - - [01/Jul/1995:00:00:11 -0400] \"GET /shuttle/countdown/liftoff.html HTTP/1.0\" 304 0               |\n",
      "|199.120.110.21 - - [01/Jul/1995:00:00:11 -0400] \"GET /shuttle/missions/sts-73/sts-73-patch-small.gif HTTP/1.0\" 200 4179|\n",
      "+-----------------------------------------------------------------------------------------------------------------------+\n",
      "only showing top 5 rows\n",
      "\n"
     ]
    }
   ],
   "source": [
    "arq_log_Aug95.show(5, truncate=False)\n",
    "arq_log_Jul95.show(5, truncate=False)"
   ]
  },
  {
   "cell_type": "code",
   "execution_count": 7,
   "metadata": {},
   "outputs": [],
   "source": [
    "df_split_Aug95 = arq_log_Aug95.select(regexp_extract('value', r'^([^\\s]+\\s)', 1).alias('host'),\n",
    "                        regexp_extract('value', r'^.*\\[(\\d\\d/\\w{3}/\\d{4}:\\d{2}:\\d{2}:\\d{2} -\\d{4})]', 1).alias('data'),\n",
    "                        regexp_extract('value', r'^.*\"\\w+\\s+([^\\s]+)\\s+HTTP.*\"', 1).alias('path'),\n",
    "                        regexp_extract('value', r'^.*\"\\s+([^\\s]+)', 1).cast('integer').alias('status'),\n",
    "                        regexp_extract('value', r'^.*\\s+(\\d+)$', 1).cast('integer').alias('tamanho'))\n",
    "\n",
    "df_split_Jul95 = arq_log_Jul95.select(regexp_extract('value', r'^([^\\s]+\\s)', 1).alias('host'),\n",
    "                        regexp_extract('value', r'^.*\\[(\\d\\d/\\w{3}/\\d{4}:\\d{2}:\\d{2}:\\d{2} -\\d{4})]', 1).alias('data'),\n",
    "                        regexp_extract('value', r'^.*\"\\w+\\s+([^\\s]+)\\s+HTTP.*\"', 1).alias('path'),\n",
    "                        regexp_extract('value', r'^.*\"\\s+([^\\s]+)', 1).cast('integer').alias('status'),\n",
    "                        regexp_extract('value', r'^.*\\s+(\\d+)$', 1).cast('integer').alias('tamanho'))"
   ]
  },
  {
   "cell_type": "code",
   "execution_count": 8,
   "metadata": {},
   "outputs": [
    {
     "name": "stdout",
     "output_type": "stream",
     "text": [
      "+------------------+--------------------------+-----------------------------------------------+------+-------+\n",
      "|host              |data                      |path                                           |status|tamanho|\n",
      "+------------------+--------------------------+-----------------------------------------------+------+-------+\n",
      "|in24.inetnebr.com |01/Aug/1995:00:00:01 -0400|/shuttle/missions/sts-68/news/sts-68-mcc-05.txt|200   |1839   |\n",
      "|uplherc.upl.com   |01/Aug/1995:00:00:07 -0400|/                                              |304   |0      |\n",
      "+------------------+--------------------------+-----------------------------------------------+------+-------+\n",
      "only showing top 2 rows\n",
      "\n",
      "+---------------------+--------------------------+-------------------+------+-------+\n",
      "|host                 |data                      |path               |status|tamanho|\n",
      "+---------------------+--------------------------+-------------------+------+-------+\n",
      "|199.72.81.55         |01/Jul/1995:00:00:01 -0400|/history/apollo/   |200   |6245   |\n",
      "|unicomp6.unicomp.net |01/Jul/1995:00:00:06 -0400|/shuttle/countdown/|200   |3985   |\n",
      "+---------------------+--------------------------+-------------------+------+-------+\n",
      "only showing top 2 rows\n",
      "\n"
     ]
    }
   ],
   "source": [
    "df_split_Aug95.show(2, truncate=False)\n",
    "df_split_Jul95.show(2, truncate=False)"
   ]
  },
  {
   "cell_type": "markdown",
   "metadata": {},
   "source": [
    "## df1 = Log Aug_95 & df2 = Log Jul_95"
   ]
  },
  {
   "cell_type": "code",
   "execution_count": 9,
   "metadata": {},
   "outputs": [],
   "source": [
    "df1 = df_split_Aug95.alias('df1')\n",
    "df2 = df_split_Jul95.alias('df2')"
   ]
  },
  {
   "cell_type": "code",
   "execution_count": 11,
   "metadata": {},
   "outputs": [],
   "source": [
    "df1_rows = df1.filter(df1['host'].isNull() |\n",
    "                            df1['data'].isNull() |\n",
    "                            df1['path'].isNull() |\n",
    "                            df1['status'].isNull() |\n",
    "                            df1['tamanho'].isNull())\n",
    "\n",
    "df2_rows = df2.filter(df2['host'].isNull() |\n",
    "                            df2['data'].isNull() |\n",
    "                            df2['path'].isNull() |\n",
    "                            df2['status'].isNull() |\n",
    "                            df2['tamanho'].isNull())\n",
    "\n"
   ]
  },
  {
   "cell_type": "code",
   "execution_count": 12,
   "metadata": {},
   "outputs": [],
   "source": [
    "def count_null_df1( col_name ):\n",
    "  return df1.filter( df1[col_name].isNull() ).count()\n",
    "\n",
    "def count_null_df2( col_name ):\n",
    "  return df2.filter( df2[col_name].isNull() ).count()"
   ]
  },
  {
   "cell_type": "code",
   "execution_count": 14,
   "metadata": {},
   "outputs": [
    {
     "name": "stdout",
     "output_type": "stream",
     "text": [
      "host  :  0\n",
      "data  :  0\n",
      "path  :  0\n",
      "status  :  0\n",
      "tamanho  :  14178\n",
      "host  :  0\n",
      "data  :  0\n",
      "path  :  0\n",
      "status  :  1\n",
      "tamanho  :  19727\n"
     ]
    }
   ],
   "source": [
    "for col_name in df1.columns:\n",
    "  print( col_name, \" : \", count_null_df1( col_name ) )\n",
    "\n",
    "for col_name in df2.columns:\n",
    "  print( col_name, \" : \", count_null_df2( col_name ) )"
   ]
  },
  {
   "cell_type": "code",
   "execution_count": 15,
   "metadata": {},
   "outputs": [
    {
     "name": "stdout",
     "output_type": "stream",
     "text": [
      "+------+-----+\n",
      "|status|count|\n",
      "+------+-----+\n",
      "|   501|   27|\n",
      "|   400|   10|\n",
      "|   403|  171|\n",
      "|   404|10056|\n",
      "|   200|   78|\n",
      "|   302| 3836|\n",
      "+------+-----+\n",
      "\n",
      "+------+-----+\n",
      "|status|count|\n",
      "+------+-----+\n",
      "|   501|   14|\n",
      "|  null|    1|\n",
      "|   400|    5|\n",
      "|   403|   54|\n",
      "|   404|10844|\n",
      "|   200|   83|\n",
      "|   302| 8726|\n",
      "+------+-----+\n",
      "\n"
     ]
    }
   ],
   "source": [
    "( df1.filter(\n",
    "  df1[\"tamanho\"].isNull() )\n",
    "  .groupby( \"status\").count() ).show()\n",
    "\n",
    "( df2.filter(\n",
    "  df2[\"tamanho\"].isNull() )\n",
    "  .groupby( \"status\").count() ).show()"
   ]
  },
  {
   "cell_type": "code",
   "execution_count": 16,
   "metadata": {},
   "outputs": [
    {
     "name": "stdout",
     "output_type": "stream",
     "text": [
      "+---------------------------------------------------------------------------------------------------------------------------+\n",
      "|value                                                                                                                      |\n",
      "+---------------------------------------------------------------------------------------------------------------------------+\n",
      "|gw1.att.com - - [01/Aug/1995:00:03:53 -0400] \"GET /shuttle/missions/sts-73/news HTTP/1.0\" 302 -                            |\n",
      "|js002.cc.utsunomiya-u.ac.jp - - [01/Aug/1995:00:07:33 -0400] \"GET /shuttle/resources/orbiters/discovery.gif HTTP/1.0\" 404 -|\n",
      "|tia1.eskimo.com - - [01/Aug/1995:00:28:41 -0400] \"GET /pub/winvn/release.txt HTTP/1.0\" 404 -                               |\n",
      "|itws.info.eng.niigata-u.ac.jp - - [01/Aug/1995:00:38:01 -0400] \"GET /ksc.html/facts/about_ksc.html HTTP/1.0\" 403 -         |\n",
      "|grimnet23.idirect.com - - [01/Aug/1995:00:50:12 -0400] \"GET /www/software/winvn/winvn.html HTTP/1.0\" 404 -                 |\n",
      "+---------------------------------------------------------------------------------------------------------------------------+\n",
      "only showing top 5 rows\n",
      "\n",
      "+--------------------------------------------------------------------------------------------------------------------------------------------------+\n",
      "|value                                                                                                                                             |\n",
      "+--------------------------------------------------------------------------------------------------------------------------------------------------+\n",
      "|dd15-062.compuserve.com - - [01/Jul/1995:00:01:12 -0400] \"GET /news/sci.space.shuttle/archive/sci-space-shuttle-22-apr-1995-40.txt HTTP/1.0\" 404 -|\n",
      "|dynip42.efn.org - - [01/Jul/1995:00:02:14 -0400] \"GET /software HTTP/1.0\" 302 -                                                                   |\n",
      "|ix-or10-06.ix.netcom.com - - [01/Jul/1995:00:02:40 -0400] \"GET /software/winvn HTTP/1.0\" 302 -                                                    |\n",
      "|ix-or10-06.ix.netcom.com - - [01/Jul/1995:00:03:24 -0400] \"GET /software HTTP/1.0\" 302 -                                                          |\n",
      "|link097.txdirect.net - - [01/Jul/1995:00:05:06 -0400] \"GET /shuttle HTTP/1.0\" 302 -                                                               |\n",
      "+--------------------------------------------------------------------------------------------------------------------------------------------------+\n",
      "only showing top 5 rows\n",
      "\n"
     ]
    }
   ],
   "source": [
    "(arq_log_Aug95.filter(\n",
    "      ~arq_log_Aug95[\"value\"].rlike('''\\d+$'''))\n",
    "      .show( 5, truncate = False ) )\n",
    "\n",
    "(arq_log_Jul95.filter(\n",
    "      ~arq_log_Jul95[\"value\"].rlike('''\\d+$'''))\n",
    "      .show( 5, truncate = False ) )"
   ]
  },
  {
   "cell_type": "code",
   "execution_count": 23,
   "metadata": {},
   "outputs": [
    {
     "data": {
      "text/plain": [
       "DataFrame[host: string, data: string, path: string, status: int, tamanho: int]"
      ]
     },
     "execution_count": 23,
     "metadata": {},
     "output_type": "execute_result"
    }
   ],
   "source": [
    "df1_clean = df1.na.fill( 0 )\n",
    "df1_clean.cache()\n",
    "\n",
    "df2_clean = df2.na.fill( 0 )\n",
    "df2_clean.cache()"
   ]
  },
  {
   "cell_type": "markdown",
   "metadata": {},
   "source": [
    "# Número de Hosts únicos"
   ]
  },
  {
   "cell_type": "code",
   "execution_count": 34,
   "metadata": {
    "scrolled": true
   },
   "outputs": [
    {
     "data": {
      "text/plain": [
       "75060"
      ]
     },
     "execution_count": 34,
     "metadata": {},
     "output_type": "execute_result"
    }
   ],
   "source": [
    "df1_clean.select('host').distinct().count()"
   ]
  },
  {
   "cell_type": "code",
   "execution_count": 36,
   "metadata": {},
   "outputs": [
    {
     "data": {
      "text/plain": [
       "81983"
      ]
     },
     "execution_count": 36,
     "metadata": {},
     "output_type": "execute_result"
    }
   ],
   "source": [
    "df2_clean.select('host').distinct().count()"
   ]
  },
  {
   "cell_type": "markdown",
   "metadata": {},
   "source": [
    "# Total de erros 404"
   ]
  },
  {
   "cell_type": "code",
   "execution_count": 38,
   "metadata": {},
   "outputs": [
    {
     "data": {
      "text/plain": [
       "10056"
      ]
     },
     "execution_count": 38,
     "metadata": {},
     "output_type": "execute_result"
    }
   ],
   "source": [
    "df1_clean.select('status').where(df1_clean['status'] == '404').count()"
   ]
  },
  {
   "cell_type": "code",
   "execution_count": 40,
   "metadata": {},
   "outputs": [
    {
     "data": {
      "text/plain": [
       "10845"
      ]
     },
     "execution_count": 40,
     "metadata": {},
     "output_type": "execute_result"
    }
   ],
   "source": [
    "df2_clean.select('status').where(df2_clean['status'] == '404').count()"
   ]
  },
  {
   "cell_type": "markdown",
   "metadata": {},
   "source": [
    "# Os 5 URLs que mais causaram erro 404"
   ]
  },
  {
   "cell_type": "code",
   "execution_count": 52,
   "metadata": {},
   "outputs": [
    {
     "name": "stdout",
     "output_type": "stream",
     "text": [
      "+--------------------+-----+\n",
      "|                host|count|\n",
      "+--------------------+-----+\n",
      "|dialip-217.den.mm...|   62|\n",
      "|piweba3y.prodigy....|   47|\n",
      "|       155.148.25.4 |   44|\n",
      "|       maz3.maz.net |   39|\n",
      "|      gate.barr.com |   38|\n",
      "+--------------------+-----+\n",
      "only showing top 5 rows\n",
      "\n"
     ]
    }
   ],
   "source": [
    "( df1_clean.filter(\n",
    "  df1_clean[\"status\"] == '404' )\n",
    "  .groupby(\"host\").count() ).sort(col(\"count\").desc()).show(5)"
   ]
  },
  {
   "cell_type": "code",
   "execution_count": 53,
   "metadata": {},
   "outputs": [
    {
     "name": "stdout",
     "output_type": "stream",
     "text": [
      "+--------------------+-----+\n",
      "|                host|count|\n",
      "+--------------------+-----+\n",
      "|hoohoo.ncsa.uiuc....|  251|\n",
      "|jbiagioni.npt.nuw...|  131|\n",
      "|piweba3y.prodigy....|  110|\n",
      "|piweba1y.prodigy....|   92|\n",
      "|phaelon.ksc.nasa....|   64|\n",
      "+--------------------+-----+\n",
      "only showing top 5 rows\n",
      "\n"
     ]
    }
   ],
   "source": [
    "( df2_clean.filter(\n",
    "  df2_clean[\"status\"] == '404' )\n",
    "  .groupby(\"host\").count() ).sort(col(\"count\").desc()).show(5)"
   ]
  },
  {
   "cell_type": "markdown",
   "metadata": {},
   "source": [
    "# Quantidades de erros 404 por dia"
   ]
  },
  {
   "cell_type": "code",
   "execution_count": 98,
   "metadata": {},
   "outputs": [
    {
     "data": {
      "text/plain": [
       "10025"
      ]
     },
     "execution_count": 98,
     "metadata": {},
     "output_type": "execute_result"
    }
   ],
   "source": [
    "(df1_clean.filter(\n",
    "  df1_clean[\"status\"] == '404' )).withColumn('Dia', concat(df1_clean.data.substr(1, 2)\n",
    "                                   )).distinct().count()"
   ]
  },
  {
   "cell_type": "markdown",
   "metadata": {},
   "source": [
    "# Total de bytes retornados"
   ]
  },
  {
   "cell_type": "code",
   "execution_count": 54,
   "metadata": {},
   "outputs": [
    {
     "name": "stdout",
     "output_type": "stream",
     "text": [
      "+------------+\n",
      "|sum(tamanho)|\n",
      "+------------+\n",
      "| 26828341424|\n",
      "+------------+\n",
      "\n"
     ]
    }
   ],
   "source": [
    "total_df1 = df1_clean.groupBy().sum('tamanho')\n",
    "total_df1.show()"
   ]
  },
  {
   "cell_type": "code",
   "execution_count": 55,
   "metadata": {},
   "outputs": [
    {
     "name": "stdout",
     "output_type": "stream",
     "text": [
      "+------------+\n",
      "|sum(tamanho)|\n",
      "+------------+\n",
      "| 38695973491|\n",
      "+------------+\n",
      "\n"
     ]
    }
   ],
   "source": [
    "total_df2 = df2_clean.groupBy().sum('tamanho')\n",
    "total_df2.show()"
   ]
  }
 ],
 "metadata": {
  "kernelspec": {
   "display_name": "Python [conda env:Anaconda3]",
   "language": "python",
   "name": "conda-env-Anaconda3-py"
  },
  "language_info": {
   "codemirror_mode": {
    "name": "ipython",
    "version": 3
   },
   "file_extension": ".py",
   "mimetype": "text/x-python",
   "name": "python",
   "nbconvert_exporter": "python",
   "pygments_lexer": "ipython3",
   "version": "3.6.5"
  }
 },
 "nbformat": 4,
 "nbformat_minor": 2
}
